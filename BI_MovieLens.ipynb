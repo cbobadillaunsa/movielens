{
  "nbformat": 4,
  "nbformat_minor": 0,
  "metadata": {
    "colab": {
      "provenance": [],
      "gpuType": "T4",
      "include_colab_link": true
    },
    "kernelspec": {
      "name": "python3",
      "display_name": "Python 3"
    },
    "language_info": {
      "name": "python"
    },
    "accelerator": "GPU"
  },
  "cells": [
    {
      "cell_type": "markdown",
      "metadata": {
        "id": "view-in-github",
        "colab_type": "text"
      },
      "source": [
        "<a href=\"https://colab.research.google.com/github/cbobadillaunsa/movielens/blob/main/BI_MovieLens.ipynb\" target=\"_parent\"><img src=\"https://colab.research.google.com/assets/colab-badge.svg\" alt=\"Open In Colab\"/></a>"
      ]
    },
    {
      "cell_type": "markdown",
      "source": [
        "# Recommendation System"
      ],
      "metadata": {
        "id": "meIpBi72ckKm"
      }
    },
    {
      "cell_type": "markdown",
      "source": [
        "# Small Dataset"
      ],
      "metadata": {
        "id": "sU2hB8C3JxT1"
      }
    },
    {
      "cell_type": "markdown",
      "source": [
        "## Imports"
      ],
      "metadata": {
        "id": "cpRU84tmbtJ6"
      }
    },
    {
      "cell_type": "code",
      "execution_count": 1,
      "metadata": {
        "id": "Ti93LswbF4gA"
      },
      "outputs": [],
      "source": [
        "import math\n",
        "import pandas as pd"
      ]
    },
    {
      "cell_type": "markdown",
      "source": [
        "## Code"
      ],
      "metadata": {
        "id": "l9g8pYCqKYwR"
      }
    },
    {
      "cell_type": "markdown",
      "source": [
        "### Read CSV file and get specifics column"
      ],
      "metadata": {
        "id": "0qRggadgbxh7"
      }
    },
    {
      "cell_type": "code",
      "source": [
        "# Read CSV file by name\n",
        "def readFile(filename, delim=','):\n",
        "    data = pd.read_csv(filename, delimiter=delim)\n",
        "    return data\n",
        "\n",
        "\n",
        "# Search user preferences\n",
        "def buscar(user, data):\n",
        "    lista = data[user].tolist()\n",
        "    return lista"
      ],
      "metadata": {
        "id": "w7JoUiZIaNEx"
      },
      "execution_count": 2,
      "outputs": []
    },
    {
      "cell_type": "markdown",
      "source": [
        "### Distances"
      ],
      "metadata": {
        "id": "HaPxoUd1b336"
      }
    },
    {
      "cell_type": "code",
      "source": [
        "# Euclidian distance\n",
        "def euclidiana(user1, user2):\n",
        "    dist = 0.0\n",
        "    count = 0\n",
        "    for i in range(len(user1)):\n",
        "        if (not math.isnan(user1[i])) and (not math.isnan(user2[i])):\n",
        "            x = user1[i]\n",
        "            y = user2[i]\n",
        "            dist += math.pow(x - y, 2)\n",
        "            count += 1\n",
        "\n",
        "    if count == 0:\n",
        "        return 9999.99\n",
        "    return math.sqrt(dist)\n",
        "\n",
        "\n",
        "# Manhattan distance\n",
        "def manhattan(user1, user2):\n",
        "    dist = 0.0\n",
        "    count = 0\n",
        "    for i in range(len(user1)):\n",
        "        if (not math.isnan(user1[i])) and (not math.isnan(user2[i])):\n",
        "            x = user1[i]\n",
        "            y = user2[i]\n",
        "            dist += abs(x - y)\n",
        "            count += 1\n",
        "\n",
        "    if count == 0:\n",
        "        return 9999.99\n",
        "    return dist\n",
        "\n",
        "\n",
        "# Cosine distance\n",
        "def coseno(user1, user2):\n",
        "    xy = xx = yy = 0.0\n",
        "    count = 0\n",
        "    for i in range(len(user1)):\n",
        "        if (not math.isnan(user1[i])) and (not math.isnan(user2[i])):\n",
        "            x = user1[i]\n",
        "            y = user2[i]\n",
        "            xy += x * y\n",
        "            xx += x * x\n",
        "            yy += y * y\n",
        "            count += 1\n",
        "\n",
        "    den = math.sqrt(xx) * math.sqrt(yy)\n",
        "    if den == 0:\n",
        "      return math.nan\n",
        "    if count == 0:\n",
        "      return math.nan\n",
        "    return xy / den  # -1 a +1\n",
        "\n",
        "\n",
        "# Pearson distance\n",
        "def pearson(user1, user2):\n",
        "    xy = zx = zy = n = zxx = zyy = 0.0\n",
        "    count = 0\n",
        "    for i in range(len(user1)):\n",
        "        if (not math.isnan(user1[i])) and (not math.isnan(user2[i])):\n",
        "            x = user1[i]\n",
        "            y = user2[i]\n",
        "            xy += x * y\n",
        "            zx += x\n",
        "            zy += y\n",
        "            n += 1\n",
        "            zxx += x * x\n",
        "            zyy += y * y\n",
        "            count += 1\n",
        "\n",
        "    a = xy - (zx * zy) / n\n",
        "    b = math.sqrt(zxx - (zx * zx) / n) * math.sqrt(zyy - (zy * zy) / n)\n",
        "    if b == 0:\n",
        "      return math.nan\n",
        "    if count == 0:\n",
        "      return math.nan\n",
        "    return a / b  # -1 a +1"
      ],
      "metadata": {
        "id": "-88OXPq8aeM_"
      },
      "execution_count": 3,
      "outputs": []
    },
    {
      "cell_type": "markdown",
      "source": [
        "### K-nn"
      ],
      "metadata": {
        "id": "3K0JRF-eb7Wj"
      }
    },
    {
      "cell_type": "code",
      "source": [
        "# K-Nearest neighbour\n",
        "def knn(N, distancia, usuario, data):  # N numero de vecinos\n",
        "    funName = distancia.__name__\n",
        "    print('k-nn', funName)\n",
        "\n",
        "    listDist, listName = initVectDist(funName, N)\n",
        "    otherusers = data.columns.values.tolist()\n",
        "    vectoruser = buscar(usuario, data)\n",
        "\n",
        "    for i in range(1, len(otherusers)):\n",
        "        tmpuser = otherusers[i]\n",
        "        if tmpuser != usuario:\n",
        "            tmpvector = buscar(tmpuser, data)\n",
        "            tmpdist = distancia(vectoruser, tmpvector)\n",
        "            if tmpdist is not math.nan:\n",
        "              listDist, listName = keepClosest(funName, listDist, listName, tmpdist, tmpuser, N)\n",
        "\n",
        "    return listDist, listName"
      ],
      "metadata": {
        "id": "d_VCaLcZagRQ"
      },
      "execution_count": 4,
      "outputs": []
    },
    {
      "cell_type": "markdown",
      "source": [
        "### Keep closest values only (RUN)"
      ],
      "metadata": {
        "id": "xS8ydZclOt80"
      }
    },
    {
      "cell_type": "code",
      "source": [
        "# Init K-vector with correct value based on distance type\n",
        "def initVectDist(funName, N):\n",
        "    if funName == 'euclidiana' or funName == 'manhattan' or funName == 'euclidianaL' or funName == 'manhattanL':\n",
        "        ls = [99999] * N\n",
        "    else:\n",
        "        ls = [-1] * N\n",
        "\n",
        "    lu = [None] * N\n",
        "    return ls, lu\n",
        "\n",
        "\n",
        "# Keep the closest values, avoiding sort\n",
        "def keepClosest(funname, lstdist, lstuser, newdist, newuser, N):\n",
        "    if funname == 'euclidiana' or funname == 'manhattan' or funname == 'euclidianaL' or funname == 'manhattanL':\n",
        "        count = -1\n",
        "        for i in lstdist:\n",
        "            count += 1\n",
        "            if newdist > i:\n",
        "                continue\n",
        "            lstdist.insert(count, newdist)\n",
        "            lstuser.insert(count, newuser)\n",
        "            break\n",
        "    else:\n",
        "        count = -1\n",
        "        for i in lstdist:\n",
        "            count += 1\n",
        "            if newdist < i:\n",
        "                continue\n",
        "            lstdist.insert(count, newdist)\n",
        "            lstuser.insert(count, newuser)\n",
        "            break\n",
        "\n",
        "    if len(lstdist) > N:\n",
        "        lstdist.pop()\n",
        "        lstuser.pop()\n",
        "    return lstdist, lstuser"
      ],
      "metadata": {
        "id": "0SMG4Z6ZOpFH"
      },
      "execution_count": 5,
      "outputs": []
    },
    {
      "cell_type": "markdown",
      "source": [
        "### Recommendation"
      ],
      "metadata": {
        "id": "APfnX4UXcDZM"
      }
    },
    {
      "cell_type": "code",
      "source": [
        "# Find the K closest firsts Item recommendation\n",
        "def recommendation(usuario, distancia, N, items, minr, data):\n",
        "    ldistK, luserK = knn(N, distancia, usuario, data)\n",
        "\n",
        "    user = buscar(usuario, data)\n",
        "    recom = [None] * N\n",
        "    for i in range(0, N):\n",
        "        recom[i] = buscar(luserK[i], data)\n",
        "    # print('user preference:', user)\n",
        "\n",
        "    lstRecomm = [-1] * items\n",
        "    lstUser = [None] * items\n",
        "    lstObj = [None] * items\n",
        "    k = 0\n",
        "\n",
        "    for i in range(len(user)):\n",
        "        if math.isnan(user[i]):\n",
        "            for j in range(0, N):\n",
        "                if not (math.isnan(recom[j][i])):\n",
        "                    currentR = recom[j][i]\n",
        "                    if currentR > minr and lstRecomm[k] < currentR:\n",
        "                        lstRecomm[k] = currentR\n",
        "                        lstUser[k] = j\n",
        "                        lstObj[k] = i\n",
        "            if lstRecomm[k] > -1:\n",
        "                k += 1\n",
        "        if k >= items:\n",
        "            break\n",
        "\n",
        "    finallst = []\n",
        "    for i in range(k):\n",
        "        tmp = [luserK[lstUser[i]], data.iloc[lstObj[i], 0], lstRecomm[i]] # UnSort\n",
        "        finallst.append(tmp)\n",
        "    return finallst"
      ],
      "metadata": {
        "id": "vqj2Sbnoalgw"
      },
      "execution_count": 6,
      "outputs": []
    },
    {
      "cell_type": "markdown",
      "source": [
        "## Distances Test"
      ],
      "metadata": {
        "id": "PUatmb-IUhyr"
      }
    },
    {
      "cell_type": "code",
      "source": [
        "datos = readFile('small.csv', ';')\n",
        "\n",
        "la = buscar('Angelica', datos)\n",
        "print(la)\n",
        "lb = buscar('Bill', datos)\n",
        "print(lb)\n",
        "\n",
        "print(euclidiana(la, lb))\n",
        "print(manhattan(la, lb))\n",
        "print(coseno(la, lb))\n",
        "print(pearson(la, lb))"
      ],
      "metadata": {
        "colab": {
          "base_uri": "https://localhost:8080/"
        },
        "id": "scn_7I1aapHm",
        "outputId": "d672b5bd-8c9d-4a19-ff54-bc326902fa7a"
      },
      "execution_count": null,
      "outputs": [
        {
          "output_type": "stream",
          "name": "stdout",
          "text": [
            "[3.5, 2.0, nan, 4.5, 5.0, 1.5, 2.5, 2.0]\n",
            "[2.0, 3.5, 4.0, nan, 2.0, 3.5, nan, 3.0]\n",
            "4.301162633521313\n",
            "9.0\n",
            "0.7939410698035858\n",
            "-0.9040534990682699\n"
          ]
        }
      ]
    },
    {
      "cell_type": "markdown",
      "source": [
        "### Form Test"
      ],
      "metadata": {
        "id": "SmD2wop1sMcF"
      }
    },
    {
      "cell_type": "code",
      "source": [
        "la = buscar('Angelica', datos)\n",
        "lb = buscar('Chan', datos)\n",
        "print(euclidiana(la, lb))\n",
        "\n",
        "la = buscar('Hailey', datos)\n",
        "lb = buscar('Jordyn', datos)\n",
        "print(euclidiana(la, lb))\n",
        "\n",
        "la = buscar('Hailey', datos)\n",
        "lb = buscar('Sam', datos)\n",
        "print(euclidiana(la, lb))\n",
        "\n",
        "la = buscar('Veronica', datos)\n",
        "lb = buscar('Bill', datos)\n",
        "print(euclidiana(la, lb))\n",
        "\n",
        "la = buscar('Hailey', datos)\n",
        "lb = buscar('Jordyn', datos)\n",
        "print(manhattan(la, lb))\n",
        "\n",
        "la = buscar('Sam', datos)\n",
        "lb = buscar('Chan', datos)\n",
        "print(manhattan(la, lb))\n",
        "\n",
        "la = buscar('Dan', datos)\n",
        "lb = buscar('Veronica', datos)\n",
        "print(manhattan(la, lb))\n",
        "\n",
        "la = buscar('Angelica', datos)\n",
        "lb = buscar('Bill', datos)\n",
        "print(manhattan(la, lb))\n",
        "\n",
        "la = buscar('Veronica', datos)\n",
        "lb = buscar('Hailey', datos)\n",
        "print(coseno(la, lb))\n",
        "\n",
        "la = buscar('Sam', datos)\n",
        "lb = buscar('Bill', datos)\n",
        "print(pearson(la, lb))"
      ],
      "metadata": {
        "colab": {
          "base_uri": "https://localhost:8080/"
        },
        "id": "Qz-aFT3Po4uY",
        "outputId": "184f8ec5-b2cc-4399-cb76-3238e17a53ac"
      },
      "execution_count": null,
      "outputs": [
        {
          "output_type": "stream",
          "name": "stdout",
          "text": [
            "2.3979157616563596\n",
            "4.387482193696061\n",
            "2.449489742783178\n",
            "2.449489742783178\n",
            "7.5\n",
            "4.0\n",
            "4.0\n",
            "9.0\n",
            "0.9701425001453319\n",
            "-0.8164965809277261\n"
          ]
        }
      ]
    },
    {
      "cell_type": "markdown",
      "source": [
        "## Small dataset"
      ],
      "metadata": {
        "id": "9-QUFdtNca6D"
      }
    },
    {
      "cell_type": "code",
      "source": [
        "datos = readFile('small.csv', ';')\n",
        "usuario = 'Bill'\n",
        "\n",
        "rfunc = euclidiana\n",
        "ldist, luser = knn(3, rfunc, usuario, datos)\n",
        "print('close', ldist)\n",
        "print('users', luser)\n",
        "\n",
        "for i in range(0, len(ldist)):\n",
        "  print(luser[i], ldist[i])\n"
      ],
      "metadata": {
        "colab": {
          "base_uri": "https://localhost:8080/"
        },
        "id": "mV98eG_Va5sy",
        "outputId": "196195c5-38ed-4411-af05-4b01cde54c5b"
      },
      "execution_count": null,
      "outputs": [
        {
          "output_type": "stream",
          "name": "stdout",
          "text": [
            "k-nn euclidiana\n",
            "close [2.1213203435596424, 2.449489742783178, 3.4641016151377544]\n",
            "users ['Dan', 'Veronica', 'Jordyn']\n",
            "Dan 2.1213203435596424\n",
            "Veronica 2.449489742783178\n",
            "Jordyn 3.4641016151377544\n"
          ]
        }
      ]
    },
    {
      "cell_type": "code",
      "source": [
        "lista = recommendation(usuario, rfunc, 3, 5, 3.0, datos)\n",
        "for i in lista:\n",
        "    print(i)"
      ],
      "metadata": {
        "colab": {
          "base_uri": "https://localhost:8080/"
        },
        "id": "jjM9wB6UbMol",
        "outputId": "4a129104-1697-4da5-e6da-e03788448bb7"
      },
      "execution_count": null,
      "outputs": [
        {
          "output_type": "stream",
          "name": "stdout",
          "text": [
            "k-nn euclidiana\n",
            "['Veronica', 'Norah Jones', 5.0]\n",
            "['Dan', 'The Strokes', 4.0]\n"
          ]
        }
      ]
    },
    {
      "cell_type": "markdown",
      "source": [
        "## Medium dataset\n",
        "http://guidetodatamining.com/chapter2/"
      ],
      "metadata": {
        "id": "Tsltb8fqcYoH"
      }
    },
    {
      "cell_type": "code",
      "source": [
        "#datos = readFile('medium.csv')\n",
        "datos = readFile('http://guidetodatamining.com/assets/data/Movie_Ratings.csv')\n",
        "usuario = 'Jessica'\n",
        "\n",
        "rfunc = manhattan\n",
        "ldist, luser = knn(3, rfunc, usuario, datos)\n",
        "print('close', ldist)\n",
        "print('users', luser)\n",
        "for i in range(0, len(ldist)):\n",
        "  print(luser[i], ldist[i])"
      ],
      "metadata": {
        "colab": {
          "base_uri": "https://localhost:8080/"
        },
        "id": "XzWs30mlbAcZ",
        "outputId": "d767e70f-7ed3-4a86-da26-7f80b9420033"
      },
      "execution_count": null,
      "outputs": [
        {
          "output_type": "stream",
          "name": "stdout",
          "text": [
            "k-nn manhattan\n",
            "close [3.0, 4.0, 5.0]\n",
            "users ['Amy', 'Erin', 'Josh']\n",
            "Amy 3.0\n",
            "Erin 4.0\n",
            "Josh 5.0\n"
          ]
        }
      ]
    },
    {
      "cell_type": "code",
      "source": [
        "lista = recommendation(usuario, rfunc, 5, 3, 3.0, datos)\n",
        "for i in lista:\n",
        "    print(i)"
      ],
      "metadata": {
        "colab": {
          "base_uri": "https://localhost:8080/"
        },
        "id": "rpepy50CbN_2",
        "outputId": "51f63ee7-2f48-453a-8e8f-55ef123efc0b"
      },
      "execution_count": null,
      "outputs": [
        {
          "output_type": "stream",
          "name": "stdout",
          "text": [
            "k-nn manhattan\n",
            "['Katherine', 'Avatar', 5.0]\n",
            "['Erin', 'Braveheart', 4.0]\n",
            "['Katherine', 'Dodgeball', 5.0]\n"
          ]
        }
      ]
    },
    {
      "cell_type": "markdown",
      "source": [
        "### Form Test"
      ],
      "metadata": {
        "id": "AyuT4EiUs_hE"
      }
    },
    {
      "cell_type": "code",
      "source": [
        "la = buscar('Jessica', datos)\n",
        "lb = buscar('Jeff', datos)\n",
        "print(euclidiana(la, lb))\n",
        "\n",
        "la = buscar('Matt', datos)\n",
        "lb = buscar('Josh', datos)\n",
        "print(pearson(la, lb))\n",
        "\n",
        "la = buscar('Matt', datos)\n",
        "lb = buscar('Josh', datos)\n",
        "print(manhattan(la, lb))\n",
        "\n",
        "la = buscar('Erin', datos)\n",
        "lb = buscar('Patrick T', datos)\n",
        "print(coseno(la, lb))\n",
        "\n",
        "la = buscar('ben', datos)\n",
        "lb = buscar('Gary', datos)\n",
        "print(pearson(la, lb))"
      ],
      "metadata": {
        "colab": {
          "base_uri": "https://localhost:8080/"
        },
        "id": "ZF0eSPIis_CC",
        "outputId": "5cf9dcd6-6e94-4dae-e155-79e64394b312"
      },
      "execution_count": null,
      "outputs": [
        {
          "output_type": "stream",
          "name": "stdout",
          "text": [
            "3.0\n",
            "nan\n",
            "1.0\n",
            "0.8789531540569908\n",
            "0.21573139418783355\n"
          ]
        }
      ]
    },
    {
      "cell_type": "markdown",
      "source": [
        "# Large Dataset\n",
        "\n",
        "https://grouplens.org/datasets/movielens/"
      ],
      "metadata": {
        "id": "72qu933O9xSG"
      }
    },
    {
      "cell_type": "markdown",
      "source": [
        "## Code"
      ],
      "metadata": {
        "id": "8PCZKNZ6JfgP"
      }
    },
    {
      "cell_type": "markdown",
      "source": [
        "### Read file to Sparse Matrix"
      ],
      "metadata": {
        "id": "CkqCdr1KOH1S"
      }
    },
    {
      "cell_type": "code",
      "source": [
        "def readLargeFile(filename, delim=','):\n",
        "  data = pd.read_csv(filename, delimiter=delim, header=None)\n",
        "\n",
        "  lst = {} # Dictionary\n",
        "  j = 0\n",
        "  for index, row in data.iterrows():\n",
        "      #print(row[0], row[1], row[2])\n",
        "      if j != row[0]:\n",
        "          j = row[0]\n",
        "          tmp = {row[1]:row[2]}\n",
        "          lst[row[0]] = tmp\n",
        "      else:\n",
        "          tmp = lst.get(row[0])\n",
        "          tmp[row[1]] = row[2]\n",
        "          lst[row[0]] = tmp\n",
        "  return lst"
      ],
      "metadata": {
        "id": "HGCJiy-d9zco"
      },
      "execution_count": 7,
      "outputs": []
    },
    {
      "cell_type": "markdown",
      "source": [
        "### Distances (Sparse Matrix)"
      ],
      "metadata": {
        "id": "RKcqjhZtc_fn"
      }
    },
    {
      "cell_type": "code",
      "source": [
        "# Euclidian distance\n",
        "def euclidianaL(user1, user2):\n",
        "    dist = 0.0\n",
        "    count = 0\n",
        "    for i in user2:\n",
        "        if not (user1.get(i) is None):\n",
        "            x = user1.get(i)\n",
        "            y = user2.get(i)\n",
        "            dist += math.pow(x - y, 2)\n",
        "            count += 1\n",
        "\n",
        "    if count == 0:\n",
        "        return 9999.99\n",
        "    return math.sqrt(dist)\n",
        "\n",
        "# Manhattan distance\n",
        "def manhattanL(user1, user2):\n",
        "    dist = 0.0\n",
        "    count = 0\n",
        "    for i in user2:\n",
        "        if not (user1.get(i) is None):\n",
        "            x = user1[i]\n",
        "            y = user2[i]\n",
        "            dist += abs(x - y)\n",
        "            count += 1\n",
        "\n",
        "    if count == 0:\n",
        "        return 9999.99\n",
        "    return dist\n",
        "\n",
        "\n",
        "# Cosine distance\n",
        "def cosenoL(user1, user2):\n",
        "    xy = xx = yy = 0.0\n",
        "    count = 0\n",
        "    for i in user2:\n",
        "        if not (user1.get(i) is None):\n",
        "            x = user1[i]\n",
        "            y = user2[i]\n",
        "            xy += x * y\n",
        "            xx += x * x\n",
        "            yy += y * y\n",
        "            count += 1\n",
        "\n",
        "    den = math.sqrt(xx) * math.sqrt(yy)\n",
        "    if den == 0:\n",
        "      return math.nan\n",
        "    if count == 0:\n",
        "        return math.nan\n",
        "    return xy / den  # -1 a +1\n",
        "\n",
        "\n",
        "# Pearson distance\n",
        "def pearsonL(user1, user2):\n",
        "    xy = zx = zy = n = zxx = zyy = 0.0\n",
        "    count = 0\n",
        "    for i in user2:\n",
        "        if not (user1.get(i) is None):\n",
        "            x = user1[i]\n",
        "            y = user2[i]\n",
        "            xy += x * y\n",
        "            zx += x\n",
        "            zy += y\n",
        "            n += 1\n",
        "            zxx += x * x\n",
        "            zyy += y * y\n",
        "            count += 1\n",
        "\n",
        "    if n == 0:\n",
        "        return math.nan\n",
        "    a = xy - (zx * zy) / n\n",
        "    b = math.sqrt(zxx - (zx * zx) / n) * math.sqrt(zyy - (zy * zy) / n)\n",
        "    if b == 0:\n",
        "        return math.nan\n",
        "    if count == 0:\n",
        "        return math.nan\n",
        "    return a / b  # -1 a +1"
      ],
      "metadata": {
        "id": "C2AOShX0-ssw"
      },
      "execution_count": null,
      "outputs": []
    },
    {
      "cell_type": "markdown",
      "source": [
        "### K-NN (Sparse Matrix)"
      ],
      "metadata": {
        "id": "0EulK9mhGkqh"
      }
    },
    {
      "cell_type": "code",
      "source": [
        "# K-Nearest neighbour\n",
        "def knn_L(N, distancia, usuario, data):  # N numero de vecinos\n",
        "    funName = distancia.__name__\n",
        "    print('k-nn', funName)\n",
        "\n",
        "    listDist, listName = initVectDist(funName, N)\n",
        "    nsize = len(data)\n",
        "    otherusers = range(0, nsize)\n",
        "    vectoruser = data.get(usuario)\n",
        "\n",
        "    for i in range(0, nsize):\n",
        "        tmpuser = i\n",
        "        if tmpuser != usuario:\n",
        "            tmpvector = data.get(tmpuser)\n",
        "            if not (tmpvector is None):\n",
        "              tmpdist = distancia(vectoruser, tmpvector)\n",
        "              if tmpdist is not math.nan:\n",
        "                listDist, listName = keepClosest(funName, listDist, listName, tmpdist, tmpuser, N)\n",
        "\n",
        "    return listDist, listName"
      ],
      "metadata": {
        "id": "6mGVk-6oGjq-"
      },
      "execution_count": null,
      "outputs": []
    },
    {
      "cell_type": "markdown",
      "source": [
        "### Recommendation (sparce Matrix)"
      ],
      "metadata": {
        "id": "J0CKD5CgP4e6"
      }
    },
    {
      "cell_type": "code",
      "source": [
        "# Find the K closest firsts Item recommendation\n",
        "def recommendationL(usuario, distancia, N, items, minr, data):\n",
        "    ldistK, luserK = knn_L(N, distancia, usuario, data)\n",
        "\n",
        "    user = data.get(usuario)\n",
        "    recom = [None] * N\n",
        "    for i in range(0, N):\n",
        "        recom[i] = data.get(luserK[i])\n",
        "    # print('user preference:', user)\n",
        "\n",
        "    lstRecomm = [-1] * items\n",
        "    lstUser = [None] * items\n",
        "    lstObj = [None] * items\n",
        "    k = 0\n",
        "\n",
        "    fullObjs = {}\n",
        "    count = 0\n",
        "    for i in recom:\n",
        "        for j in i:\n",
        "          tmp = fullObjs.get(j)\n",
        "          if tmp is None:\n",
        "            fullObjs[j] = [i.get(j), luserK[count]]\n",
        "          else:\n",
        "            nval = i.get(j)\n",
        "            if nval > tmp[0]:\n",
        "              fullObjs[j] = [nval, luserK[count]]\n",
        "        count += 1\n",
        "\n",
        "    finallst = topSuggestions(fullObjs, count, items)\n",
        "    return finallst"
      ],
      "metadata": {
        "id": "qLmx8YRlOMlo"
      },
      "execution_count": null,
      "outputs": []
    },
    {
      "cell_type": "markdown",
      "source": [
        "Top suggestions filter"
      ],
      "metadata": {
        "id": "mdaMZwaYch9x"
      }
    },
    {
      "cell_type": "code",
      "source": [
        "def topSuggestions(fullObj, k, items):\n",
        "  rp = [-1]*items\n",
        "\n",
        "  for i in fullObj:\n",
        "    rating = fullObj.get(i)\n",
        "\n",
        "    for j in range(0, items):\n",
        "      if rp[j] == -1 :\n",
        "        tmp = [i, rating[0], rating[1]]\n",
        "        rp.insert(j, tmp)\n",
        "        rp.pop()\n",
        "        break\n",
        "      else:\n",
        "        tval = rp[j]\n",
        "        if tval[1] < rating[0]:\n",
        "          tmp = [i, rating[0], rating[1]]\n",
        "          rp.insert(j, tmp)\n",
        "          rp.pop()\n",
        "          break\n",
        "\n",
        "  return rp\n"
      ],
      "metadata": {
        "id": "TStNe9LDWnhx"
      },
      "execution_count": null,
      "outputs": []
    },
    {
      "cell_type": "markdown",
      "source": [
        "## 1 Million\n",
        "ml-1m.zip contents 1M recommendations\n",
        "https://grouplens.org/datasets/movielens/"
      ],
      "metadata": {
        "id": "QiN_25m-S6Ja"
      }
    },
    {
      "cell_type": "markdown",
      "source": [
        "### Load 1M Dataset"
      ],
      "metadata": {
        "id": "r1zX4qWOdKRa"
      }
    },
    {
      "cell_type": "code",
      "source": [
        "!wget 'https://files.grouplens.org/datasets/movielens/ml-1m.zip'"
      ],
      "metadata": {
        "colab": {
          "base_uri": "https://localhost:8080/"
        },
        "id": "r6sxKyIoSj7Y",
        "outputId": "ba68feed-c999-4467-828b-bc74b5dc7583"
      },
      "execution_count": null,
      "outputs": [
        {
          "output_type": "stream",
          "name": "stdout",
          "text": [
            "--2023-11-25 14:13:09--  https://files.grouplens.org/datasets/movielens/ml-1m.zip\n",
            "Resolving files.grouplens.org (files.grouplens.org)... 128.101.65.152\n",
            "Connecting to files.grouplens.org (files.grouplens.org)|128.101.65.152|:443... connected.\n",
            "HTTP request sent, awaiting response... 200 OK\n",
            "Length: 5917549 (5.6M) [application/zip]\n",
            "Saving to: ‘ml-1m.zip’\n",
            "\n",
            "ml-1m.zip           100%[===================>]   5.64M  32.8MB/s    in 0.2s    \n",
            "\n",
            "2023-11-25 14:13:09 (32.8 MB/s) - ‘ml-1m.zip’ saved [5917549/5917549]\n",
            "\n"
          ]
        }
      ]
    },
    {
      "cell_type": "code",
      "source": [
        "!unzip ml-1m.zip"
      ],
      "metadata": {
        "colab": {
          "base_uri": "https://localhost:8080/"
        },
        "id": "Wmtw3OdqS5ZD",
        "outputId": "d4ab100f-67dc-46fb-a0b8-6333f80c83ef"
      },
      "execution_count": null,
      "outputs": [
        {
          "output_type": "stream",
          "name": "stdout",
          "text": [
            "Archive:  ml-1m.zip\n",
            "   creating: ml-1m/\n",
            "  inflating: ml-1m/movies.dat        \n",
            "  inflating: ml-1m/ratings.dat       \n",
            "  inflating: ml-1m/README            \n",
            "  inflating: ml-1m/users.dat         \n"
          ]
        }
      ]
    },
    {
      "cell_type": "code",
      "source": [
        "lst = readLargeFile('ml-1m/ratings.dat', '::') # 55 seg, 6040"
      ],
      "metadata": {
        "colab": {
          "base_uri": "https://localhost:8080/"
        },
        "id": "kv69VI76DqkX",
        "outputId": "7535f1ac-2a4d-4f71-9cce-e6a1b936d804"
      },
      "execution_count": null,
      "outputs": [
        {
          "output_type": "stream",
          "name": "stderr",
          "text": [
            "<ipython-input-2-25808b0149ad>:2: ParserWarning: Falling back to the 'python' engine because the 'c' engine does not support regex separators (separators > 1 char and different from '\\s+' are interpreted as regex); you can avoid this warning by specifying engine='python'.\n",
            "  data = pd.read_csv(filename, delimiter=delim, header=None)\n"
          ]
        }
      ]
    },
    {
      "cell_type": "markdown",
      "source": [
        "Size"
      ],
      "metadata": {
        "id": "jbbEdEYQdOcS"
      }
    },
    {
      "cell_type": "code",
      "source": [
        "len(lst)"
      ],
      "metadata": {
        "colab": {
          "base_uri": "https://localhost:8080/"
        },
        "id": "NXVRnUIwFMvQ",
        "outputId": "ef113c16-2db3-44fd-8194-b89a94052fbc"
      },
      "execution_count": null,
      "outputs": [
        {
          "output_type": "execute_result",
          "data": {
            "text/plain": [
              "6040"
            ]
          },
          "metadata": {},
          "execution_count": 10
        }
      ]
    },
    {
      "cell_type": "markdown",
      "source": [
        "Distance Test"
      ],
      "metadata": {
        "id": "hYxHDQTSdYl-"
      }
    },
    {
      "cell_type": "code",
      "source": [
        "a = lst.get(50)\n",
        "print('a: ', len(a))\n",
        "\n",
        "b = lst.get(5707)\n",
        "print('b: ', len(b))\n",
        "\n",
        "print('euclidiana: ', euclidianaL(a,b))\n",
        "print('manhattan:  ', manhattanL(a, b))\n",
        "print('coseno:     ', cosenoL(a, b))\n",
        "print('pearson:    ', pearsonL(a, b))"
      ],
      "metadata": {
        "colab": {
          "base_uri": "https://localhost:8080/"
        },
        "id": "kNQRSfeA-mIf",
        "outputId": "bb95446e-af86-4e42-fcd9-8e625154aef8"
      },
      "execution_count": null,
      "outputs": [
        {
          "output_type": "stream",
          "name": "stdout",
          "text": [
            "a:  43\n",
            "b:  100\n",
            "euclidiana:  1.4142135623730951\n",
            "manhattan:   2.0\n",
            "coseno:      0.9897475249773018\n",
            "pearson:     1.000000000000004\n"
          ]
        }
      ]
    },
    {
      "cell_type": "markdown",
      "source": [
        "### KNN 1M"
      ],
      "metadata": {
        "id": "sLngQa_hcsiN"
      }
    },
    {
      "cell_type": "code",
      "source": [
        "usuario = 50\n",
        "rfunc = euclidianaL\n",
        "\n",
        "ldist, luser = knn_L(10, rfunc, usuario, lst)\n",
        "print('close', ldist)\n",
        "print('users', luser)"
      ],
      "metadata": {
        "colab": {
          "base_uri": "https://localhost:8080/"
        },
        "id": "IupxVIQzHiCU",
        "outputId": "a742b0ac-7b08-4a8b-a520-bdc56f2659a0"
      },
      "execution_count": null,
      "outputs": [
        {
          "output_type": "stream",
          "name": "stdout",
          "text": [
            "k-nn euclidianaL\n",
            "close [0.0, 0.0, 0.0, 0.0, 0.0, 0.0, 0.0, 0.0, 0.0, 0.0]\n",
            "users [6039, 6006, 6005, 5992, 5988, 5979, 5976, 5962, 5960, 5958]\n"
          ]
        }
      ]
    },
    {
      "cell_type": "markdown",
      "source": [
        "### Recommendation 1M"
      ],
      "metadata": {
        "id": "ZysGD65GHlhK"
      }
    },
    {
      "cell_type": "code",
      "source": [
        "usuario = 50\n",
        "rfunc = euclidianaL\n",
        "\n",
        "# 4 vecinos, 10 recomendaciones\n",
        "lista = recommendationL(usuario, rfunc, 4, 10, 3.0, lst)\n",
        "for i in lista:\n",
        "    print('user:', i[2], 'obj:',i[0], 'rating:', i[1])"
      ],
      "metadata": {
        "colab": {
          "base_uri": "https://localhost:8080/"
        },
        "id": "2EudBOoOSMts",
        "outputId": "b96c84f8-5b5e-4f53-c645-ef1136e60067"
      },
      "execution_count": null,
      "outputs": [
        {
          "output_type": "stream",
          "name": "stdout",
          "text": [
            "k-nn euclidianaL\n",
            "user: 6039 obj: 3037 rating: 5\n",
            "user: 6039 obj: 903 rating: 5\n",
            "user: 6039 obj: 904 rating: 5\n",
            "user: 6039 obj: 913 rating: 5\n",
            "user: 6039 obj: 916 rating: 5\n",
            "user: 6039 obj: 918 rating: 5\n",
            "user: 6006 obj: 919 rating: 5\n",
            "user: 6039 obj: 922 rating: 5\n",
            "user: 6039 obj: 926 rating: 5\n",
            "user: 6039 obj: 3088 rating: 5\n"
          ]
        }
      ]
    },
    {
      "cell_type": "markdown",
      "source": [
        "## 10 million\n",
        "ml-10m.zip contents 10M recommendations\n",
        "https://grouplens.org/datasets/movielens/"
      ],
      "metadata": {
        "id": "mwgv67SyWdaM"
      }
    },
    {
      "cell_type": "markdown",
      "source": [
        "### Load 10M Dataset"
      ],
      "metadata": {
        "id": "TmNRnZGHHsG2"
      }
    },
    {
      "cell_type": "code",
      "source": [
        "!wget 'https://files.grouplens.org/datasets/movielens/ml-10m.zip'"
      ],
      "metadata": {
        "colab": {
          "base_uri": "https://localhost:8080/"
        },
        "id": "DLEsRNaeWfOc",
        "outputId": "d4dfdca8-2365-4b51-b346-38d396ba84a5"
      },
      "execution_count": null,
      "outputs": [
        {
          "output_type": "stream",
          "name": "stdout",
          "text": [
            "--2023-11-18 13:37:47--  https://files.grouplens.org/datasets/movielens/ml-10m.zip\n",
            "Resolving files.grouplens.org (files.grouplens.org)... 128.101.65.152\n",
            "Connecting to files.grouplens.org (files.grouplens.org)|128.101.65.152|:443... connected.\n",
            "HTTP request sent, awaiting response... 200 OK\n",
            "Length: 65566137 (63M) [application/zip]\n",
            "Saving to: ‘ml-10m.zip’\n",
            "\n",
            "ml-10m.zip          100%[===================>]  62.53M  39.6MB/s    in 1.6s    \n",
            "\n",
            "2023-11-18 13:37:49 (39.6 MB/s) - ‘ml-10m.zip’ saved [65566137/65566137]\n",
            "\n"
          ]
        }
      ]
    },
    {
      "cell_type": "code",
      "source": [
        "!unzip ml-10m.zip"
      ],
      "metadata": {
        "colab": {
          "base_uri": "https://localhost:8080/"
        },
        "id": "9y_G6awKWoBu",
        "outputId": "7c7afbbf-fe34-4603-abc0-b32a87818689"
      },
      "execution_count": null,
      "outputs": [
        {
          "output_type": "stream",
          "name": "stdout",
          "text": [
            "Archive:  ml-10m.zip\n",
            "   creating: ml-10M100K/\n",
            "  inflating: ml-10M100K/allbut.pl    \n",
            "  inflating: ml-10M100K/movies.dat   \n",
            "  inflating: ml-10M100K/ratings.dat  \n",
            "  inflating: ml-10M100K/README.html  \n",
            "  inflating: ml-10M100K/split_ratings.sh  \n",
            "  inflating: ml-10M100K/tags.dat     \n"
          ]
        }
      ]
    },
    {
      "cell_type": "code",
      "source": [
        "lstdb = readLargeFile('ml-10M100K/ratings.dat', '::') #  10 min 47 seg, 69878"
      ],
      "metadata": {
        "colab": {
          "base_uri": "https://localhost:8080/"
        },
        "id": "9bsSdiMMXJEg",
        "outputId": "5b9b2ca8-f444-4917-e0cf-ed3f62beee0b"
      },
      "execution_count": null,
      "outputs": [
        {
          "output_type": "stream",
          "name": "stderr",
          "text": [
            "<ipython-input-2-e72c8684a45c>:2: ParserWarning: Falling back to the 'python' engine because the 'c' engine does not support regex separators (separators > 1 char and different from '\\s+' are interpreted as regex); you can avoid this warning by specifying engine='python'.\n",
            "  data = pd.read_csv(filename, delimiter=delim, header=None)\n"
          ]
        }
      ]
    },
    {
      "cell_type": "code",
      "source": [
        "len(lstdb)"
      ],
      "metadata": {
        "colab": {
          "base_uri": "https://localhost:8080/"
        },
        "id": "I8SF2ZgRXTW_",
        "outputId": "838067d2-3b71-4e5f-a40e-ec5f49f1ca86"
      },
      "execution_count": null,
      "outputs": [
        {
          "output_type": "execute_result",
          "data": {
            "text/plain": [
              "69878"
            ]
          },
          "metadata": {},
          "execution_count": 13
        }
      ]
    },
    {
      "cell_type": "markdown",
      "source": [
        "### K-NN 10M"
      ],
      "metadata": {
        "id": "HEfJqWQwaDgD"
      }
    },
    {
      "cell_type": "code",
      "source": [
        "usuario = 345\n",
        "rfunc = euclidianaL\n",
        "\n",
        "ldist, luser = knn_L(15, rfunc, usuario, lstdb) # 1 seg\n",
        "print('close', ldist)\n",
        "print('users', luser)"
      ],
      "metadata": {
        "colab": {
          "base_uri": "https://localhost:8080/"
        },
        "id": "3CunmTGmaKPr",
        "outputId": "da16a460-6f45-4929-9829-29d1d5603afb"
      },
      "execution_count": null,
      "outputs": [
        {
          "output_type": "stream",
          "name": "stdout",
          "text": [
            "k-nn euclidianaL\n",
            "close [0.0, 0.0, 0.0, 0.0, 0.0, 0.0, 0.0, 0.0, 0.0, 0.0, 0.0, 0.0, 0.0, 0.0, 0.0]\n",
            "users [69877, 69847, 69710, 69704, 69657, 69642, 69582, 69561, 69328, 69275, 68979, 68934, 68925, 68683, 68566]\n"
          ]
        }
      ]
    },
    {
      "cell_type": "markdown",
      "source": [
        "### Recommendation 10M"
      ],
      "metadata": {
        "id": "V27cEITuabva"
      }
    },
    {
      "cell_type": "code",
      "source": [
        "usuario = 45600\n",
        "rfunc = euclidianaL\n",
        "\n",
        "# 10 vecinos, 20 recomendaciones\n",
        "lista = recommendationL(usuario, rfunc, 10, 20, 3.0, lstdb) # 2 seg\n",
        "for i in lista:\n",
        "    print('user:', i[2], 'obj:',i[0], 'rating:', i[1])"
      ],
      "metadata": {
        "colab": {
          "base_uri": "https://localhost:8080/"
        },
        "id": "2EeZnRmKad_i",
        "outputId": "802d4537-7b05-4c0e-8b6d-ccdd66058dc4"
      },
      "execution_count": null,
      "outputs": [
        {
          "output_type": "stream",
          "name": "stdout",
          "text": [
            "k-nn euclidianaL\n",
            "user: 69869 obj: 913.0 rating: 5.0\n",
            "user: 69877 obj: 1199.0 rating: 5.0\n",
            "user: 69877 obj: 1204.0 rating: 5.0\n",
            "user: 69877 obj: 1676.0 rating: 5.0\n",
            "user: 69877 obj: 2395.0 rating: 5.0\n",
            "user: 69877 obj: 2712.0 rating: 5.0\n",
            "user: 69877 obj: 2804.0 rating: 5.0\n",
            "user: 69877 obj: 3307.0 rating: 5.0\n",
            "user: 69877 obj: 3471.0 rating: 5.0\n",
            "user: 69877 obj: 4022.0 rating: 5.0\n",
            "user: 69877 obj: 6711.0 rating: 5.0\n",
            "user: 69877 obj: 7361.0 rating: 5.0\n",
            "user: 69876 obj: 587.0 rating: 5.0\n",
            "user: 69876 obj: 590.0 rating: 5.0\n",
            "user: 69855 obj: 832.0 rating: 5.0\n",
            "user: 69876 obj: 858.0 rating: 5.0\n",
            "user: 69869 obj: 923.0 rating: 5.0\n",
            "user: 69876 obj: 1012.0 rating: 5.0\n",
            "user: 69876 obj: 1036.0 rating: 5.0\n",
            "user: 69876 obj: 1090.0 rating: 5.0\n"
          ]
        }
      ]
    },
    {
      "cell_type": "markdown",
      "source": [
        "## 20 millions\n",
        "ml-20m.zip contents 20M recommendations\n",
        "https://grouplens.org/datasets/movielens/"
      ],
      "metadata": {
        "id": "mwBxBQpD0PDq"
      }
    },
    {
      "cell_type": "markdown",
      "source": [
        "### Load 20M Dataset"
      ],
      "metadata": {
        "id": "uKzqYrNnH4Y7"
      }
    },
    {
      "cell_type": "code",
      "source": [
        "!wget 'https://files.grouplens.org/datasets/movielens/ml-20m.zip'"
      ],
      "metadata": {
        "colab": {
          "base_uri": "https://localhost:8080/"
        },
        "id": "HmLGgbuN0OMI",
        "outputId": "6cc62c35-434c-4007-d97e-a7c9084a2857"
      },
      "execution_count": 8,
      "outputs": [
        {
          "output_type": "stream",
          "name": "stdout",
          "text": [
            "--2023-12-04 02:38:45--  https://files.grouplens.org/datasets/movielens/ml-20m.zip\n",
            "Resolving files.grouplens.org (files.grouplens.org)... 128.101.65.152\n",
            "Connecting to files.grouplens.org (files.grouplens.org)|128.101.65.152|:443... connected.\n",
            "HTTP request sent, awaiting response... 200 OK\n",
            "Length: 198702078 (189M) [application/zip]\n",
            "Saving to: ‘ml-20m.zip’\n",
            "\n",
            "ml-20m.zip          100%[===================>] 189.50M  16.6MB/s    in 13s     \n",
            "\n",
            "2023-12-04 02:38:59 (14.5 MB/s) - ‘ml-20m.zip’ saved [198702078/198702078]\n",
            "\n"
          ]
        }
      ]
    },
    {
      "cell_type": "code",
      "source": [
        "!unzip ml-20m.zip"
      ],
      "metadata": {
        "colab": {
          "base_uri": "https://localhost:8080/"
        },
        "id": "2KP-vJPK0fyv",
        "outputId": "9f51ba8e-a4f0-4c24-d681-2ac320b048ca"
      },
      "execution_count": 9,
      "outputs": [
        {
          "output_type": "stream",
          "name": "stdout",
          "text": [
            "Archive:  ml-20m.zip\n",
            "   creating: ml-20m/\n",
            "  inflating: ml-20m/genome-scores.csv  \n",
            "  inflating: ml-20m/genome-tags.csv  \n",
            "  inflating: ml-20m/links.csv        \n",
            "  inflating: ml-20m/movies.csv       \n",
            "  inflating: ml-20m/ratings.csv      \n",
            "  inflating: ml-20m/README.txt       \n",
            "  inflating: ml-20m/tags.csv         \n"
          ]
        }
      ]
    },
    {
      "cell_type": "code",
      "source": [
        "import pandas as pd\n",
        "lstdb20 = readLargeFile('ml-20m/ratings.csv') # 17:42 min"
      ],
      "metadata": {
        "colab": {
          "base_uri": "https://localhost:8080/"
        },
        "id": "6N17BWhS0mjG",
        "outputId": "0ef7b420-f073-4359-a7f9-efcf8a9a7fbf"
      },
      "execution_count": null,
      "outputs": [
        {
          "output_type": "stream",
          "name": "stderr",
          "text": [
            "<ipython-input-7-25808b0149ad>:2: DtypeWarning: Columns (0,1,2,3) have mixed types. Specify dtype option on import or set low_memory=False.\n",
            "  data = pd.read_csv(filename, delimiter=delim, header=None)\n"
          ]
        }
      ]
    },
    {
      "cell_type": "code",
      "source": [
        "len(lstdb20)"
      ],
      "metadata": {
        "colab": {
          "base_uri": "https://localhost:8080/"
        },
        "id": "x4JMl7UmGmUL",
        "outputId": "437ac01e-9d37-4728-ed34-f18d594ed764"
      },
      "execution_count": null,
      "outputs": [
        {
          "output_type": "execute_result",
          "data": {
            "text/plain": [
              "138495"
            ]
          },
          "metadata": {},
          "execution_count": 7
        }
      ]
    },
    {
      "cell_type": "markdown",
      "source": [
        "### KNN 20M"
      ],
      "metadata": {
        "id": "miuOEveAH-8h"
      }
    },
    {
      "cell_type": "code",
      "source": [
        "usuario = 98765\n",
        "rfunc = euclidianaL\n",
        "\n",
        "ldist, luser = knn_L(15, rfunc, usuario, lstdb20) # 2 seg\n",
        "print('close', ldist)\n",
        "print('users', luser)"
      ],
      "metadata": {
        "colab": {
          "base_uri": "https://localhost:8080/"
        },
        "id": "_Vgd2Kbx1IdI",
        "outputId": "1705ea58-0b46-4920-b2a5-9dd78e5f74bc"
      },
      "execution_count": null,
      "outputs": [
        {
          "output_type": "stream",
          "name": "stdout",
          "text": [
            "k-nn euclidianaL\n",
            "close [0.0, 0.0, 0.0, 0.0, 0.0, 0.0, 0.0, 0.0, 0.0, 0.0, 0.0, 0.0, 0.0, 0.0, 0.0]\n",
            "users [138492, 138478, 138464, 138420, 138410, 138405, 138396, 138395, 138351, 138349, 138344, 138339, 138315, 138286, 138274]\n"
          ]
        }
      ]
    },
    {
      "cell_type": "markdown",
      "source": [
        "### Recommendation 20M"
      ],
      "metadata": {
        "id": "kwz_QZnmIBIq"
      }
    },
    {
      "cell_type": "code",
      "source": [
        "usuario = 45600\n",
        "rfunc = euclidianaL\n",
        "\n",
        "# 10 vecinos, 20 recomendaciones\n",
        "lista = recommendationL(usuario, rfunc, 10, 20, 3.0, lstdb20) # 3 seg\n",
        "for i in lista:\n",
        "    print('user:', i[2], 'obj:',i[0], 'rating:', i[1])"
      ],
      "metadata": {
        "colab": {
          "base_uri": "https://localhost:8080/"
        },
        "id": "J9vSkmfaG4ss",
        "outputId": "3851fbcb-5818-47d9-cb94-eae9a6719c36"
      },
      "execution_count": null,
      "outputs": [
        {
          "output_type": "stream",
          "name": "stdout",
          "text": [
            "k-nn euclidianaL\n",
            "user: 138466 obj: 233 rating: 5.0\n",
            "user: 138466 obj: 246 rating: 5.0\n",
            "user: 138466 obj: 265 rating: 5.0\n",
            "user: 138252 obj: 1270 rating: 5.0\n",
            "user: 138466 obj: 1542 rating: 5.0\n",
            "user: 138466 obj: 1719 rating: 5.0\n",
            "user: 138466 obj: 1922 rating: 5.0\n",
            "user: 138466 obj: 1931 rating: 5.0\n",
            "user: 138466 obj: 2324 rating: 5.0\n",
            "user: 138466 obj: 2396 rating: 5.0\n",
            "user: 138455 obj: 2571 rating: 5.0\n",
            "user: 138466 obj: 2580 rating: 5.0\n",
            "user: 138466 obj: 2599 rating: 5.0\n",
            "user: 138466 obj: 2690 rating: 5.0\n",
            "user: 138466 obj: 2706 rating: 5.0\n",
            "user: 138466 obj: 2858 rating: 5.0\n",
            "user: 138466 obj: 2997 rating: 5.0\n",
            "user: 138466 obj: 3148 rating: 5.0\n",
            "user: 138455 obj: 111 rating: 5.0\n",
            "user: 138455 obj: 296 rating: 5.0\n"
          ]
        }
      ]
    }
  ]
}